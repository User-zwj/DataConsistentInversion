{
 "cells": [
  {
   "cell_type": "markdown",
   "metadata": {},
   "source": [
    "## Example 6.1"
   ]
  },
  {
   "cell_type": "code",
   "execution_count": 1,
   "metadata": {
    "ExecuteTime": {
     "end_time": "2021-03-01T00:33:40.980608Z",
     "start_time": "2021-03-01T00:33:39.304918Z"
    }
   },
   "outputs": [],
   "source": [
    "import numpy as np\n",
    "import matplotlib.pyplot as plt\n",
    "from scipy.stats import gaussian_kde as kde\n",
    "from scipy.stats import norm\n",
    "from scipy.stats import uniform\n",
    "\n",
    "%matplotlib inline"
   ]
  },
  {
   "cell_type": "code",
   "execution_count": 2,
   "metadata": {
    "ExecuteTime": {
     "end_time": "2021-03-01T00:33:40.991648Z",
     "start_time": "2021-03-01T00:33:40.983692Z"
    }
   },
   "outputs": [],
   "source": [
    "a=0.79; b=0.99; c=1-4.5*np.sqrt(0.1); d=1+4.5*np.sqrt(0.1)"
   ]
  },
  {
   "cell_type": "code",
   "execution_count": 3,
   "metadata": {
    "ExecuteTime": {
     "end_time": "2021-03-01T00:33:41.005121Z",
     "start_time": "2021-03-01T00:33:40.997262Z"
    }
   },
   "outputs": [],
   "source": [
    "def pdf_prior1(x):\n",
    "    return uniform.pdf(x,loc=a, scale=b-a)        #loc is the left side, scale is the length of the interval\n",
    "\n",
    "def pdf_prior2(x):\n",
    "    return uniform.pdf(x,loc=c, scale=d-c)\n",
    "\n",
    "def pdf_observe(x):\n",
    "    return norm.pdf(x,loc=0.3,scale=0.025)              #scale indicates standard deviation"
   ]
  },
  {
   "cell_type": "markdown",
   "metadata": {},
   "source": [
    "## Part I-Step1 Generate random sample from uniform prior"
   ]
  },
  {
   "cell_type": "code",
   "execution_count": 4,
   "metadata": {
    "ExecuteTime": {
     "end_time": "2021-03-01T00:33:41.015659Z",
     "start_time": "2021-03-01T00:33:41.010115Z"
    }
   },
   "outputs": [],
   "source": [
    "N = 10000 # set sample size"
   ]
  },
  {
   "cell_type": "code",
   "execution_count": 5,
   "metadata": {
    "ExecuteTime": {
     "end_time": "2021-03-01T00:33:41.028865Z",
     "start_time": "2021-03-01T00:33:41.021800Z"
    }
   },
   "outputs": [],
   "source": [
    "lambda1=np.random.uniform(low=a,high=b,size=N)                     \n",
    "lambda2=np.random.uniform(low=c,high=d,size=N)"
   ]
  },
  {
   "cell_type": "markdown",
   "metadata": {},
   "source": [
    "## Part I-Step2 Compute $q_1, q_2, ... q_{10000}$"
   ]
  },
  {
   "cell_type": "code",
   "execution_count": 6,
   "metadata": {
    "ExecuteTime": {
     "end_time": "2021-03-01T00:33:41.040030Z",
     "start_time": "2021-03-01T00:33:41.032555Z"
    }
   },
   "outputs": [],
   "source": [
    "def qoi1(x,y):\n",
    "    q = np.sqrt((1-x)/(1+x*y))\n",
    "    return q\n",
    "\n",
    "q=qoi1(lambda1,lambda2)\n",
    "\n",
    "#q=np.sqrt((1-lambda1)/(1+lambda1*lambda2))"
   ]
  },
  {
   "cell_type": "markdown",
   "metadata": {},
   "source": [
    "## Part I-Step3 Apply KDE to get pdf_pushprior"
   ]
  },
  {
   "cell_type": "code",
   "execution_count": 7,
   "metadata": {
    "ExecuteTime": {
     "end_time": "2021-03-01T00:33:41.052973Z",
     "start_time": "2021-03-01T00:33:41.045115Z"
    }
   },
   "outputs": [],
   "source": [
    "pdf_pushprior=kde(q)"
   ]
  },
  {
   "cell_type": "markdown",
   "metadata": {},
   "source": [
    "## Part II-Step1 Get $r_q=r(q)$"
   ]
  },
  {
   "cell_type": "code",
   "execution_count": 8,
   "metadata": {
    "ExecuteTime": {
     "end_time": "2021-03-01T00:33:42.674035Z",
     "start_time": "2021-03-01T00:33:41.061915Z"
    }
   },
   "outputs": [],
   "source": [
    "r_q=pdf_observe(q)/pdf_pushprior(q)"
   ]
  },
  {
   "cell_type": "code",
   "execution_count": 9,
   "metadata": {
    "ExecuteTime": {
     "end_time": "2021-03-01T00:33:42.684641Z",
     "start_time": "2021-03-01T00:33:42.678591Z"
    }
   },
   "outputs": [],
   "source": [
    "M=max(r_q)"
   ]
  },
  {
   "cell_type": "markdown",
   "metadata": {},
   "source": [
    "## Part II-Step2 Get $\\xi$ from uniform distribution"
   ]
  },
  {
   "cell_type": "code",
   "execution_count": 10,
   "metadata": {
    "ExecuteTime": {
     "end_time": "2021-03-01T00:33:42.696513Z",
     "start_time": "2021-03-01T00:33:42.689528Z"
    }
   },
   "outputs": [],
   "source": [
    "xi=np.random.uniform(low=0,high=1,size=N)"
   ]
  },
  {
   "cell_type": "markdown",
   "metadata": {},
   "source": [
    "## Part II-Step3 Get $\\eta=r_q/M$"
   ]
  },
  {
   "cell_type": "code",
   "execution_count": 11,
   "metadata": {
    "ExecuteTime": {
     "end_time": "2021-03-01T00:33:42.707405Z",
     "start_time": "2021-03-01T00:33:42.700998Z"
    }
   },
   "outputs": [],
   "source": [
    "eta=r_q/M"
   ]
  },
  {
   "cell_type": "markdown",
   "metadata": {},
   "source": [
    "## Part II-Step4 Compare $\\xi$ and $\\eta$"
   ]
  },
  {
   "cell_type": "code",
   "execution_count": 12,
   "metadata": {
    "ExecuteTime": {
     "end_time": "2021-03-01T00:33:42.718965Z",
     "start_time": "2021-03-01T00:33:42.712017Z"
    }
   },
   "outputs": [],
   "source": [
    "lambda1_post=np.array([])\n",
    "lambda2_post=np.array([])"
   ]
  },
  {
   "cell_type": "code",
   "execution_count": 13,
   "metadata": {
    "ExecuteTime": {
     "end_time": "2021-03-01T00:33:42.797257Z",
     "start_time": "2021-03-01T00:33:42.724045Z"
    },
    "scrolled": true
   },
   "outputs": [],
   "source": [
    "for i in range(N):\n",
    "    if eta[i] > xi[i]:\n",
    "        lambda1_post=np.append(lambda1_post,lambda1[i])\n",
    "        lambda2_post=np.append(lambda2_post,lambda2[i])"
   ]
  },
  {
   "cell_type": "code",
   "execution_count": 14,
   "metadata": {
    "ExecuteTime": {
     "end_time": "2021-03-01T00:33:42.808967Z",
     "start_time": "2021-03-01T00:33:42.800604Z"
    }
   },
   "outputs": [
    {
     "data": {
      "text/plain": [
       "2018"
      ]
     },
     "execution_count": 14,
     "metadata": {},
     "output_type": "execute_result"
    }
   ],
   "source": [
    "len(lambda1_post)"
   ]
  },
  {
   "cell_type": "code",
   "execution_count": 15,
   "metadata": {
    "ExecuteTime": {
     "end_time": "2021-03-01T00:33:43.400147Z",
     "start_time": "2021-03-01T00:33:42.812160Z"
    },
    "scrolled": false
   },
   "outputs": [
    {
     "data": {
      "image/png": "[encoded data removed]",
      "text/plain": [
       "<Figure size 432x288 with 1 Axes>"
      ]
     },
     "metadata": {
      "needs_background": "light"
     },
     "output_type": "display_data"
    }
   ],
   "source": [
    "plt.figure()\n",
    "plt.scatter(lambda1_post,lambda2_post,s=25,c='b',marker='.')\n",
    "plt.xlabel('$\\lambda_1$')\n",
    "plt.ylabel('$\\lambda_2$')\n",
    "plt.show()"
   ]
  },
  {
   "cell_type": "code",
   "execution_count": 16,
   "metadata": {
    "ExecuteTime": {
     "end_time": "2021-03-01T00:33:43.815597Z",
     "start_time": "2021-03-01T00:33:43.405273Z"
    }
   },
   "outputs": [
    {
     "data": {
      "text/plain": [
       "<matplotlib.collections.PathCollection at 0x7f91ebcb4208>"
      ]
     },
     "execution_count": 16,
     "metadata": {},
     "output_type": "execute_result"
    },
    {
     "data": {
      "image/png": "[encoded data removed]",
      "text/plain": [
       "<Figure size 432x288 with 1 Axes>"
      ]
     },
     "metadata": {
      "needs_background": "light"
     },
     "output_type": "display_data"
    }
   ],
   "source": [
    "plt.figure()\n",
    "\n",
    "plt.scatter(lambda1, lambda2,s=10, c='b', marker='o')\n",
    "\n",
    "plt.scatter(lambda1_post,lambda2_post,s=25,c='r',marker='+')\n"
   ]
  },
  {
   "cell_type": "markdown",
   "metadata": {},
   "source": [
    "## Part II-Step5 Get pdf_pushpost"
   ]
  },
  {
   "cell_type": "code",
   "execution_count": 17,
   "metadata": {
    "ExecuteTime": {
     "end_time": "2021-03-01T00:33:43.838841Z",
     "start_time": "2021-03-01T00:33:43.829250Z"
    },
    "scrolled": true
   },
   "outputs": [],
   "source": [
    "#q_post = qoi1(lambda1_post, lambda2_post)\n",
    "\n",
    "q_post=np.sqrt((1-lambda1_post)/(1+lambda1_post*lambda2_post))"
   ]
  },
  {
   "cell_type": "code",
   "execution_count": 18,
   "metadata": {
    "ExecuteTime": {
     "end_time": "2021-03-01T00:33:43.866401Z",
     "start_time": "2021-03-01T00:33:43.849603Z"
    }
   },
   "outputs": [],
   "source": [
    "pdf_pushpost=kde(q_post)"
   ]
  },
  {
   "cell_type": "code",
   "execution_count": null,
   "metadata": {
    "ExecuteTime": {
     "start_time": "2021-03-01T00:33:39.373Z"
    }
   },
   "outputs": [],
   "source": [
    "def post_pdf1(x,y):\n",
    "    post = pdf_prior1(x)*pdf_prior2(y)*pdf_observe(qoi1(x,y))/pdf_pushprior(qoi1(x,y))\n",
    "    return post\n",
    "\n",
    "\n",
    "x = np.linspace(lambda1.min(),lambda1.max(),500)\n",
    "y = np.linspace(lambda2.min(),lambda2.max(),500)\n",
    "xx, yy = np.meshgrid(x, y)\n",
    "z = post_pdf1(xx.flatten(), yy.flatten())\n",
    "z = np.reshape(z,(500,500))\n",
    "print(z.shape)\n",
    "\n",
    "plt.figure()\n",
    "plt.xlabel('$\\lambda_1$')\n",
    "plt.ylabel('$\\lambda_2$')\n",
    "plt.contourf(xx,yy,z)\n",
    "#plt.imshow(z, origin='lower', interpolation=\"none\")\n",
    "#plt.xticks(np.arange(xx.shape[1]), xx[0,:])  # need to set the ticks manually\n",
    "#plt.yticks(np.arange(yy.shape[0]), yy[:,0])\n",
    "plt.colorbar()\n"
   ]
  },
  {
   "cell_type": "markdown",
   "metadata": {},
   "source": [
    "## Graph"
   ]
  },
  {
   "cell_type": "code",
   "execution_count": null,
   "metadata": {
    "ExecuteTime": {
     "start_time": "2021-03-01T00:33:39.378Z"
    }
   },
   "outputs": [],
   "source": [
    "print(np.sqrt(0.01/(1-0.99*c)))\n",
    "print(0.21/(1-0.99*d))"
   ]
  },
  {
   "cell_type": "code",
   "execution_count": null,
   "metadata": {
    "ExecuteTime": {
     "start_time": "2021-03-01T00:33:39.387Z"
    },
    "scrolled": false
   },
   "outputs": [],
   "source": [
    "fig, ax1 = plt.subplots(1, 1)\n",
    "#x = np.linspace(q.min(),q.max(),100)\n",
    "x = np.linspace(0,0.7,100)\n",
    "\n",
    "y1 = pdf_observe(x)\n",
    "plt.plot(x, y1, c='orange',label='Observed')\n",
    "\n",
    "y2 = pdf_pushprior(x)\n",
    "plt.plot(x, y2, c='blue',label='PF prior')\n",
    "\n",
    "y3 = pdf_pushpost(x)\n",
    "plt.plot(x, y3, linestyle='--', c='blue',label='PF posterior')\n",
    "\n",
    "#plt.yticks(np.arange(min(x), max(x)+1, 1.0))\n",
    "#plt.ylim(0, 15,5)\n",
    "plt.legend()\n",
    "plt.xlabel('Quantity of interest');\n",
    "# fig.savefig('Fig6-1.png');"
   ]
  },
  {
   "cell_type": "code",
   "execution_count": null,
   "metadata": {
    "ExecuteTime": {
     "start_time": "2021-03-01T00:33:39.391Z"
    }
   },
   "outputs": [],
   "source": [
    "fig = plt.figure(figsize=(7,5))\n",
    "#x = np.linspace(q.min(),q.max(),100)\n",
    "x = np.linspace(0,0.7,100)\n",
    "\n",
    "y1 = pdf_observe(x)\n",
    "plt.plot(x, y1, linewidth=4,c='blue',label='$\\pi_{\\mathcal{D}}$')\n",
    "\n",
    "y2 = pdf_pushprior(x)\n",
    "plt.plot(x, y2, linewidth=4, c='green',label='PF of '+'$\\pi_{\\Lambda}^{init}$')\n",
    "\n",
    "y3 = pdf_pushpost(x)\n",
    "plt.plot(x, y3, linewidth=2, linestyle='--', c='orangered',label='PF of '+'$\\pi_{\\Lambda}^{up}$')\n",
    "\n",
    "#plt.yticks(np.arange(min(x), max(x)+1, 1.0))\n",
    "#plt.ylim(0, 15,5)\n",
    "plt.xticks(fontsize=14, rotation=0)\n",
    "plt.yticks(fontsize=14, rotation=0)\n",
    "plt.xlabel('Quantity of interest',fontsize=14)\n",
    "#plt.show()\n",
    "# fig.savefig('Fig6-1.png')\n",
    "plt.legend(prop={'size': 12});\n",
    "fig.savefig('3.png');"
   ]
  },
  {
   "cell_type": "markdown",
   "metadata": {},
   "source": [
    "## Example 6.2"
   ]
  },
  {
   "cell_type": "markdown",
   "metadata": {},
   "source": [
    "### Method 1"
   ]
  },
  {
   "cell_type": "code",
   "execution_count": null,
   "metadata": {
    "ExecuteTime": {
     "start_time": "2021-03-01T00:33:39.395Z"
    }
   },
   "outputs": [],
   "source": [
    "def q1(lam):\n",
    "    samplesize = lam.shape[0]\n",
    "    sampledim  = lam.shape[1]\n",
    "    lam1 = lam[:,0]\n",
    "    lam2 = lam[:,1]\n",
    "    \n",
    "    q1 = np.exp(-lam1**2-lam2**2)-lam1**3-lam2**3\n",
    "    return q1\n",
    "\n",
    "def q2(lam):\n",
    "    samplesize = lam.shape[0]\n",
    "    sampledim  = lam.shape[1]\n",
    "    lam1 = lam[:,0]\n",
    "    lam2 = lam[:,1]\n",
    "    \n",
    "    q2 = 1 + q1(lam) + (1/(4*2))*(lam1**2+lam2**2)\n",
    "    return q2\n",
    "\n",
    "def qoi2(lam):\n",
    "    samplesize = lam.shape[0]\n",
    "    sampledim  = lam.shape[1]\n",
    "    lam1 = lam[:,0]\n",
    "    lam2 = lam[:,1]\n",
    "    \n",
    "    index1 = np.where((3*lam1+2*lam2>=0) & (-lam1+0.3*lam2<0))\n",
    "    index2 = np.where((3*lam1+2*lam2>=0) & (-lam1+0.3*lam2>=0))\n",
    "    index3 = np.where((lam1+1)**2+(lam2+1)**2<0.95**2)\n",
    "    index4 = np.where((3*lam1+2*lam2<0) & ((lam1+1)**2+(lam2+1)**2>=0.95**2))\n",
    "    \n",
    "    q = np.zeros(samplesize)\n",
    "\n",
    "    q[index1] = q1(lam)[index1]-2\n",
    "    q[index2] = 2*q2(lam)[index2]\n",
    "    q[index3] = 2*q1(lam)[index3]+4\n",
    "    q[index4] = q1(lam)[index4]\n",
    "    \n",
    "    return q"
   ]
  },
  {
   "cell_type": "markdown",
   "metadata": {},
   "source": [
    "#### test of the new defined function"
   ]
  },
  {
   "cell_type": "code",
   "execution_count": null,
   "metadata": {
    "ExecuteTime": {
     "start_time": "2021-03-01T00:33:39.399Z"
    }
   },
   "outputs": [],
   "source": [
    "x = np.array([[1,0],[2,0],[3,0],[0,0]])\n",
    "print(x.shape)\n",
    "print(q1(x))\n",
    "print(q2(x))\n",
    "print(qoi2(x))"
   ]
  },
  {
   "cell_type": "markdown",
   "metadata": {},
   "source": [
    "## Method 2"
   ]
  },
  {
   "cell_type": "code",
   "execution_count": null,
   "metadata": {
    "ExecuteTime": {
     "start_time": "2021-03-01T00:33:39.402Z"
    }
   },
   "outputs": [],
   "source": [
    "def q1(lam):\n",
    "    samplesize = lam.shape[0]\n",
    "    sampledim  = lam.shape[1]\n",
    "    lam1 = lam[:,0]\n",
    "    lam2 = lam[:,1]\n",
    "    \n",
    "    q1 = np.exp(-lam1**2-lam2**2)-lam1**3-lam2**3\n",
    "    return q1\n",
    "\n",
    "def q2(lam):\n",
    "    samplesize = lam.shape[0]\n",
    "    sampledim  = lam.shape[1]\n",
    "    lam1 = lam[:,0]\n",
    "    lam2 = lam[:,1]\n",
    "    \n",
    "    q2 = 1 + q1(lam) + (1/(4*2))*(lam1**2+lam2**2)\n",
    "    return q2\n",
    "\n",
    "def qoi2(lam):\n",
    "    samplesize = lam.shape[0]\n",
    "    sampledim  = lam.shape[1]\n",
    "    lam1 = lam[:,0]\n",
    "    lam2 = lam[:,1]\n",
    "    q = np.zeros(samplesize)\n",
    "    \n",
    "    for i in range(samplesize):\n",
    "        if (3*lam[i,0]+2*lam[i,1]>=0) and (-lam[i,0]+0.3*lam[i,1]<0):\n",
    "            q[i] = (q1(lam)[i])-2\n",
    "        elif (3*lam[i,0]+2*lam[i,1]>=0) and (-lam[i,0]+0.3*lam[i,1]>=0):\n",
    "            q[i] = 2*(q2(lam)[i])\n",
    "        elif (lam[i,0]+1)**2+(lam[i,1]+1)**2<0.95**2:\n",
    "            q[i] = 2*(q1(lam)[i])+4\n",
    "        else:\n",
    "            q[i] = q1(lam)[i]   \n",
    "    return q"
   ]
  },
  {
   "cell_type": "markdown",
   "metadata": {},
   "source": [
    "#### test of the new defined function"
   ]
  },
  {
   "cell_type": "code",
   "execution_count": null,
   "metadata": {
    "ExecuteTime": {
     "start_time": "2021-03-01T00:33:39.405Z"
    }
   },
   "outputs": [],
   "source": [
    "x = np.array([[1,0],[2,0],[3,0],[0,0]])\n",
    "print(x.shape)\n",
    "print(q1(x))\n",
    "print(q2(x))\n",
    "print(qoi2(x))"
   ]
  },
  {
   "cell_type": "code",
   "execution_count": null,
   "metadata": {
    "ExecuteTime": {
     "start_time": "2021-03-01T00:33:39.408Z"
    }
   },
   "outputs": [],
   "source": [
    "def pdf_prior1(x):\n",
    "    return uniform.pdf(x,loc=-1, scale=2)        #loc is the left side, scale is the length of the interval\n",
    "\n",
    "def pdf_prior2(x):\n",
    "    return uniform.pdf(x,loc=-1, scale=2)\n",
    "\n",
    "def pdf_observe(x):\n",
    "    return norm.pdf(x,loc=-2.0,scale=0.25)"
   ]
  },
  {
   "cell_type": "markdown",
   "metadata": {},
   "source": [
    "## Part I-Step1 Generate random sample from uniform prior"
   ]
  },
  {
   "cell_type": "code",
   "execution_count": null,
   "metadata": {
    "ExecuteTime": {
     "start_time": "2021-03-01T00:33:39.411Z"
    }
   },
   "outputs": [],
   "source": [
    "N = 10000 # set sample size\n",
    "\n",
    "lambda1=np.random.uniform(low=-1,high=1,size=N).reshape(-1,1)                     \n",
    "lambda2=np.random.uniform(low=-1,high=1,size=N).reshape(-1,1)\n",
    "\n",
    "lam=np.concatenate((lambda1,lambda2),axis=1)"
   ]
  },
  {
   "cell_type": "markdown",
   "metadata": {},
   "source": [
    "## Part I-Step2 Compute $q_1, q_2, ... q_{10000}$"
   ]
  },
  {
   "cell_type": "code",
   "execution_count": null,
   "metadata": {
    "ExecuteTime": {
     "start_time": "2021-03-01T00:33:39.414Z"
    }
   },
   "outputs": [],
   "source": [
    "q=qoi2(lam)"
   ]
  },
  {
   "cell_type": "markdown",
   "metadata": {},
   "source": [
    "## Part I-Step3 Apply KDE to get pdf_pushprior"
   ]
  },
  {
   "cell_type": "code",
   "execution_count": null,
   "metadata": {
    "ExecuteTime": {
     "start_time": "2021-03-01T00:33:39.418Z"
    }
   },
   "outputs": [],
   "source": [
    "pdf_pushprior=kde(q)"
   ]
  },
  {
   "cell_type": "markdown",
   "metadata": {},
   "source": [
    "## Part II-Step1 Get $r_q=r(q)$"
   ]
  },
  {
   "cell_type": "code",
   "execution_count": null,
   "metadata": {
    "ExecuteTime": {
     "start_time": "2021-03-01T00:33:39.421Z"
    }
   },
   "outputs": [],
   "source": [
    "r_q=pdf_observe(q)/pdf_pushprior(q)\n",
    "M=max(r_q)"
   ]
  },
  {
   "cell_type": "markdown",
   "metadata": {},
   "source": [
    "## Part II-Step2 Get $\\xi$ from uniform distribution"
   ]
  },
  {
   "cell_type": "code",
   "execution_count": null,
   "metadata": {
    "ExecuteTime": {
     "start_time": "2021-03-01T00:33:39.425Z"
    }
   },
   "outputs": [],
   "source": [
    "xi=np.random.uniform(low=0,high=1,size=N)"
   ]
  },
  {
   "cell_type": "markdown",
   "metadata": {},
   "source": [
    "## Part II-Step3 Get $\\eta=r_q/M$"
   ]
  },
  {
   "cell_type": "code",
   "execution_count": null,
   "metadata": {
    "ExecuteTime": {
     "start_time": "2021-03-01T00:33:39.429Z"
    }
   },
   "outputs": [],
   "source": [
    "eta=r_q/M"
   ]
  },
  {
   "cell_type": "markdown",
   "metadata": {},
   "source": [
    "## Part II-Step4 Compare $\\xi$ and $\\eta$"
   ]
  },
  {
   "cell_type": "markdown",
   "metadata": {},
   "source": [
    "#### <FONT COLOR = RED> Method 1"
   ]
  },
  {
   "cell_type": "code",
   "execution_count": null,
   "metadata": {
    "ExecuteTime": {
     "start_time": "2021-03-01T00:33:39.433Z"
    }
   },
   "outputs": [],
   "source": [
    "lambda1_post=np.array([])\n",
    "lambda2_post=np.array([])       #don't define an array with fixed length, b/c you don't know before making comparison\n",
    "                                #to get the length, we can use len(np.where(eta>xi))\n",
    "for i in range(N):\n",
    "    if eta[i] > xi[i]:\n",
    "        lambda1_post=np.append(lambda1_post,lambda1[i])\n",
    "        lambda2_post=np.append(lambda2_post,lambda2[i])"
   ]
  },
  {
   "cell_type": "markdown",
   "metadata": {},
   "source": [
    "#### <FONT COLOR = RED> Method 2"
   ]
  },
  {
   "cell_type": "code",
   "execution_count": null,
   "metadata": {
    "ExecuteTime": {
     "start_time": "2021-03-01T00:33:39.437Z"
    }
   },
   "outputs": [],
   "source": [
    "lam1 = lam[:,0]\n",
    "lam2 = lam[:,1]\n",
    "    \n",
    "postindex = np.where(eta > xi )\n",
    "lambda1_post = lam1[postindex]\n",
    "lambda2_post = lam2[postindex]"
   ]
  },
  {
   "cell_type": "code",
   "execution_count": null,
   "metadata": {
    "ExecuteTime": {
     "start_time": "2021-03-01T00:33:39.440Z"
    }
   },
   "outputs": [],
   "source": [
    "print(len(lambda1_post))"
   ]
  },
  {
   "cell_type": "code",
   "execution_count": null,
   "metadata": {
    "ExecuteTime": {
     "start_time": "2021-03-01T00:33:39.444Z"
    }
   },
   "outputs": [],
   "source": [
    "plt.figure()\n",
    "\n",
    "plt.scatter(lambda1_post,lambda2_post,s=25,c='b',marker='.')\n",
    "plt.xlabel('$\\lambda_1$')\n",
    "plt.ylabel('$\\lambda_2$')\n",
    "plt.show()"
   ]
  },
  {
   "cell_type": "code",
   "execution_count": null,
   "metadata": {
    "ExecuteTime": {
     "start_time": "2021-03-01T00:33:39.448Z"
    }
   },
   "outputs": [],
   "source": [
    "plt.figure()\n",
    "\n",
    "plt.scatter(lambda1, lambda2,s=10, c='b', marker='o')\n",
    "\n",
    "plt.scatter(lambda1_post,lambda2_post,s=25,c='r',marker='+')\n"
   ]
  },
  {
   "cell_type": "markdown",
   "metadata": {},
   "source": [
    "## Part II-Step5 Get pdf_pushpost"
   ]
  },
  {
   "cell_type": "code",
   "execution_count": null,
   "metadata": {
    "ExecuteTime": {
     "start_time": "2021-03-01T00:33:39.453Z"
    }
   },
   "outputs": [],
   "source": [
    "lam_post=np.concatenate((lambda1_post.reshape(-1,1),lambda2_post.reshape(-1,1)),axis=1)\n",
    "\n",
    "q_post=qoi2(lam_post)\n",
    "\n",
    "pdf_pushpost=kde(q_post)"
   ]
  },
  {
   "cell_type": "markdown",
   "metadata": {},
   "source": [
    "<font color = red> Define the posterior pdf"
   ]
  },
  {
   "cell_type": "code",
   "execution_count": null,
   "metadata": {
    "ExecuteTime": {
     "start_time": "2021-03-01T00:33:39.457Z"
    }
   },
   "outputs": [],
   "source": [
    "def post_pdf2(x):\n",
    "    post = pdf_prior1(x[:,0])*pdf_prior2(x[:,1])*pdf_observe(qoi2(x))/pdf_pushprior(qoi2(x))\n",
    "    return post"
   ]
  },
  {
   "cell_type": "code",
   "execution_count": null,
   "metadata": {
    "ExecuteTime": {
     "start_time": "2021-03-01T00:33:39.461Z"
    },
    "scrolled": false
   },
   "outputs": [],
   "source": [
    "lam1 = lam[:,0]\n",
    "lam2 = lam[:,1]\n",
    "\n",
    "x = np.linspace(lam1.min(),lam1.max(),100)\n",
    "y = np.linspace(lam2.min(),lam2.max(),100)\n",
    "xx, yy = np.meshgrid(x, y)\n",
    "z = post_pdf2(np.array([xx.flatten(),yy.flatten()]).transpose())\n",
    "z = np.reshape(z,(100,100))\n",
    "\n",
    "plt.figure()\n",
    "plt.xlabel('$\\lambda_1$')\n",
    "plt.ylabel('$\\lambda_2$')\n",
    "plt.contourf(xx,yy,z)\n",
    "# plt.imshow(z, origin='lower', interpolation=\"none\")\n",
    "# plt.xticks(np.arange(xx.shape[1]), xx.ravel())  \n",
    "# plt.yticks(np.arange(yy.shape[0]), yy.ravel())\n",
    "plt.colorbar();"
   ]
  },
  {
   "cell_type": "code",
   "execution_count": null,
   "metadata": {
    "ExecuteTime": {
     "start_time": "2021-03-01T00:33:39.465Z"
    }
   },
   "outputs": [],
   "source": [
    "fig, ax1 = plt.subplots(1, 1)\n",
    "\n",
    "x1 = np.linspace(q.min(),q.max(),100)\n",
    "\n",
    "y1 = pdf_observe(x1)\n",
    "ax1.plot(x1, y1, 'r',label='Observed')    \n",
    "\n",
    "y2 = pdf_pushprior(x1)\n",
    "ax1.plot(x1, y2, 'b',label='PF prior')\n",
    "\n",
    "# x3 = q_post\n",
    "y3 = pdf_pushpost(x1)\n",
    "ax1.plot(x1, y3, 'k',linestyle='--',label='PF posterior')\n",
    "\n",
    "plt.legend()\n",
    "plt.xlabel('Quantity of interest')\n",
    "plt.show()"
   ]
  }
 ],
 "metadata": {
  "kernelspec": {
   "display_name": "Python 3",
   "language": "python",
   "name": "python3"
  },
  "language_info": {
   "codemirror_mode": {
    "name": "ipython",
    "version": 3
   },
   "file_extension": ".py",
   "mimetype": "text/x-python",
   "name": "python",
   "nbconvert_exporter": "python",
   "pygments_lexer": "ipython3",
   "version": "3.6.7"
  },
  "toc": {
   "base_numbering": 1,
   "nav_menu": {},
   "number_sections": true,
   "sideBar": true,
   "skip_h1_title": false,
   "title_cell": "Table of Contents",
   "title_sidebar": "Contents",
   "toc_cell": false,
   "toc_position": {},
   "toc_section_display": true,
   "toc_window_display": false
  }
 },
 "nbformat": 4,
 "nbformat_minor": 2
}
